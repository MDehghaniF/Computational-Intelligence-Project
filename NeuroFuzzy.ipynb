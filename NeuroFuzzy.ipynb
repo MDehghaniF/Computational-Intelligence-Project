{
 "cells": [
  {
   "cell_type": "code",
   "execution_count": 1,
   "metadata": {},
   "outputs": [],
   "source": [
    "import numpy as np\n",
    "import matplotlib.pyplot as plt\n",
    "import tensorflow as tf"
   ]
  },
  {
   "cell_type": "code",
   "execution_count": 2,
   "metadata": {},
   "outputs": [],
   "source": [
    "left = []\n",
    "right = []\n",
    "center = []\n",
    "gas = []\n",
    "rot = []"
   ]
  },
  {
   "cell_type": "code",
   "execution_count": 3,
   "metadata": {},
   "outputs": [],
   "source": [
    "\n",
    "with open(\"right.txt\") as file:\n",
    "    for line in file:\n",
    "        txt = line.split(\"\\n\")\n",
    "        right.append(float(txt[0])) \n",
    "\n",
    "with open(\"left.txt\") as file:\n",
    "    for line in file:\n",
    "        txt = line.split(\"\\n\")\n",
    "        left.append(float(txt[0])) \n",
    "\n",
    "with open(\"center.txt\") as file:\n",
    "    for line in file:\n",
    "        txt = line.split(\"\\n\")\n",
    "        center.append(float(txt[0])) \n",
    "\n",
    "with open(\"gas.txt\") as file:\n",
    "    for line in file:\n",
    "        txt = line.split(\"\\n\")\n",
    "        gas.append(float(txt[0])) \n",
    "\n",
    "with open(\"rot.txt\") as file:\n",
    "    for line in file:\n",
    "        txt = line.split(\"\\n\")\n",
    "        rot.append(float(txt[0])) "
   ]
  },
  {
   "cell_type": "code",
   "execution_count": 5,
   "metadata": {},
   "outputs": [],
   "source": [
    "right = np.array(right)\n",
    "left = np.array(left)\n",
    "center = np.array(center)\n",
    "gas = np.array(gas)\n",
    "rot = np.array(rot)"
   ]
  },
  {
   "cell_type": "code",
   "execution_count": 19,
   "metadata": {},
   "outputs": [
    {
     "data": {
      "text/plain": [
       "array([[50.29953877, 49.70046123],\n",
       "       [45.42099759, 54.57900241],\n",
       "       [52.74715277, 47.25284723],\n",
       "       ...,\n",
       "       [53.6720496 , 46.3279504 ],\n",
       "       [52.31735808, 47.68264192],\n",
       "       [52.43542323, 47.56457677]])"
      ]
     },
     "execution_count": 19,
     "metadata": {},
     "output_type": "execute_result"
    }
   ],
   "source": [
    "inputs = np.vstack([right,left]).T\n",
    "inputs"
   ]
  },
  {
   "cell_type": "code",
   "execution_count": 20,
   "metadata": {},
   "outputs": [],
   "source": [
    "def Create_model():\n",
    "    model = tf.keras.Sequential()\n",
    "    model.add(tf.keras.layers.Dense(5, input_dim=2, activation='sigmoid'))\n",
    "    model.add(tf.keras.layers.Dense(5, activation='sigmoid'))\n",
    "    model.add(tf.keras.layers.Dense(5, activation='sigmoid'))\n",
    "    model.add(tf.keras.layers.Dense(1, output_dim=1,activation='sigmoid'))\n",
    "    return model"
   ]
  },
  {
   "cell_type": "code",
   "execution_count": null,
   "metadata": {},
   "outputs": [],
   "source": [
    "model = Create_model()\n",
    "model.fit(inputs,rot)"
   ]
  }
 ],
 "metadata": {
  "kernelspec": {
   "display_name": "Python 3",
   "language": "python",
   "name": "python3"
  },
  "language_info": {
   "codemirror_mode": {
    "name": "ipython",
    "version": 3
   },
   "file_extension": ".py",
   "mimetype": "text/x-python",
   "name": "python",
   "nbconvert_exporter": "python",
   "pygments_lexer": "ipython3",
   "version": "3.11.4"
  }
 },
 "nbformat": 4,
 "nbformat_minor": 2
}
